{
  "nbformat": 4,
  "nbformat_minor": 0,
  "metadata": {
    "colab": {
      "name": "MNIST_handwriting.ipynb",
      "provenance": [],
      "collapsed_sections": [],
      "authorship_tag": "ABX9TyMgJVgKcpU1Wd9X64DVOrHq",
      "include_colab_link": true
    },
    "kernelspec": {
      "name": "python3",
      "display_name": "Python 3"
    }
  },
  "cells": [
    {
      "cell_type": "markdown",
      "metadata": {
        "id": "view-in-github",
        "colab_type": "text"
      },
      "source": [
        "<a href=\"https://colab.research.google.com/github/Prajna-Alva/Tensorflow-ML-DL-AI/blob/main/MNIST_handwriting.ipynb\" target=\"_parent\"><img src=\"https://colab.research.google.com/assets/colab-badge.svg\" alt=\"Open In Colab\"/></a>"
      ]
    },
    {
      "cell_type": "markdown",
      "metadata": {
        "id": "8EyE5xQoF-29"
      },
      "source": [
        "Write an MNIST(which has items of Handwriting - the digits 0 through 9) classifier that trains to 99% accuracy or above, and does it without a fixed number of epochs -- i.e. you should stop training once you reach that level of accuracy."
      ]
    },
    {
      "cell_type": "code",
      "metadata": {
        "id": "rGJUUN1PC1oE"
      },
      "source": [
        "import tensorflow as tf\r\n",
        "from os import path, getcwd, chdir\r\n",
        "\r\n",
        "# DO NOT CHANGE THE LINE BELOW. If you are developing in a local\r\n",
        "# environment, then grab mnist.npz from the Coursera Jupyter Notebook\r\n",
        "# and place it inside a local folder and edit the path to that location\r\n",
        "path = f\"{getcwd()}/../tmp2/mnist.npz\""
      ],
      "execution_count": 11,
      "outputs": []
    },
    {
      "cell_type": "code",
      "metadata": {
        "id": "cxx4SFoyCUvZ"
      },
      "source": [
        "def train_mnist():\r\n",
        "    \r\n",
        "    class myCallback(tf.keras.callbacks.Callback):\r\n",
        "        def on_epoch_end(self, epoch, logs={}):\r\n",
        "            if(logs.get('accuracy')>0.99):\r\n",
        "                print(\"\\nReached 99% accuracy so cancelling training!\")\r\n",
        "                self.model.stop_training = True\r\n",
        "\r\n",
        "    mnist = tf.keras.datasets.mnist\r\n",
        "\r\n",
        "    (x_train, y_train),(x_test, y_test) = mnist.load_data()\r\n",
        "    x_train, x_test = x_train / 255.0, x_test / 255.0\r\n",
        "    \r\n",
        "\r\n",
        "    callbacks = myCallback()\r\n",
        "   \r\n",
        "    model = tf.keras.models.Sequential([tf.keras.layers.Flatten(input_shape=(28, 28)),\r\n",
        "        tf.keras.layers.Dense(512, activation=tf.nn.relu),\r\n",
        "        tf.keras.layers.Dense(10, activation=tf.nn.softmax)\r\n",
        "    ])\r\n",
        "\r\n",
        "    model.compile(optimizer='adam',\r\n",
        "                  loss='sparse_categorical_crossentropy',\r\n",
        "                  metrics=['accuracy'])\r\n",
        "    \r\n",
        "    # model fitting\r\n",
        "    model.fit(x_train,\r\n",
        "        y_train,\r\n",
        "        epochs=10,\r\n",
        "        callbacks=[callbacks]\r\n",
        "    )\r\n",
        "    "
      ],
      "execution_count": 18,
      "outputs": []
    },
    {
      "cell_type": "code",
      "metadata": {
        "colab": {
          "base_uri": "https://localhost:8080/"
        },
        "id": "8YLuVxtuCxuw",
        "outputId": "0b779b02-740d-48bd-d04d-1baaf174a86b"
      },
      "source": [
        "train_mnist()"
      ],
      "execution_count": 19,
      "outputs": [
        {
          "output_type": "stream",
          "text": [
            "Epoch 1/10\n",
            "1875/1875 [==============================] - 8s 4ms/step - loss: 0.2020 - accuracy: 0.9403\n",
            "Epoch 2/10\n",
            "1875/1875 [==============================] - 8s 4ms/step - loss: 0.0814 - accuracy: 0.9753\n",
            "Epoch 3/10\n",
            "1875/1875 [==============================] - 8s 4ms/step - loss: 0.0517 - accuracy: 0.9842\n",
            "Epoch 4/10\n",
            "1875/1875 [==============================] - 8s 4ms/step - loss: 0.0372 - accuracy: 0.9880\n",
            "Epoch 5/10\n",
            "1864/1875 [============================>.] - ETA: 0s - loss: 0.0283 - accuracy: 0.9907\n",
            "Reached 99% accuracy so cancelling training!\n",
            "1875/1875 [==============================] - 8s 4ms/step - loss: 0.0283 - accuracy: 0.9907\n"
          ],
          "name": "stdout"
        }
      ]
    }
  ]
}
